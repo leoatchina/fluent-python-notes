{
 "cells": [
  {
   "cell_type": "markdown",
   "metadata": {},
   "source": [
    "# 丰富的序列类型\n",
    "## 容器序列\n",
    "list tuple collections.deque\n",
    "## 扁平序列\n",
    "str bytes bytearray memoryview & array.array\n",
    "\n",
    "# 按能否被修改\n",
    "## 可变序列 \n",
    "list bytearray array.array"
   ]
  }
 ],
 "metadata": {
  "kernelspec": {
   "display_name": "Python 3",
   "language": "python",
   "name": "python3"
  },
  "language_info": {
   "codemirror_mode": {
    "name": "ipython",
    "version": 3
   },
   "file_extension": ".py",
   "mimetype": "text/x-python",
   "name": "python",
   "nbconvert_exporter": "python",
   "pygments_lexer": "ipython3",
   "version": "3.7.0"
  }
 },
 "nbformat": 4,
 "nbformat_minor": 2
}
